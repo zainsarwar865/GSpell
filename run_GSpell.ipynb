{
 "cells": [
  {
   "cell_type": "code",
   "execution_count": 1,
   "metadata": {},
   "outputs": [],
   "source": [
    "from GSpell_Language_Metrics import Run_GSpell_Metrics\n",
    "content = 'we will behecming emplohee badges at the ntracnc nce to the ballrom. all e ployes will be reauire go present aa vvalid enron badge wihh a photo. ic yiu.ou o nog curenhtoy yaveba.pyoto on your badge., please go o the badgeborice on the thirrd flor of the enron buolding and bavebyournphoto wde o you ur badve'\n",
    "\n",
    "gt = 'we will be checking employee badges at the entrance to the ballroom. all employees will be required to present a valid enron badge with a photo. if you do not currently have a photo on your badge, please go to the badge office on the third floor of the enron building and have your photo added to your badge. we also suggest allowing a bit more time in getting to the hyatt and we request your patience, as these security measures may create some backup at the entrance to the ballroom. please review the home address and phone number shown on this email. do not response if the information is correct. however, if incorrect then reply to this email with the correct information so you hr records can be updated accordingly. your home information is important in case the company needs to forward critical materials to you or contact you regarding important company information. very belated reply. i am cleaning up old emails today, and came across this one that i had not answered. commercial does not sign confirmations at this point. too many to make that practical these days. when i started the confirm desk, traders were signing confirms at that time. once they knew that they had someone who would take responsibility to make sure they were right, they were very glad to pass that responsibility to me. in the early days of power, the traders once again were signing confirms. obviously interested in the details of every deal that was done. but as the business grew, that too changed. thank you for continuing to support enron by performing your job everyday. the ongoing uncertainty about our future, coupled with the constant media scrutiny, makes this situation difficult for all of us. while no one can control the media, we can and will define our leadership and devise our strategy for moving ahead. and in doing so, we will build a more certain future for our company and our employees. if the intended email is of valid business related content and you believe it requires enron resources to retrieve it, you may call your help desk and ask to have it released from quarantine and delivered to your email inbox. your message will be scanned and checked for viruses prior to requested release. if it contains a virus or there is reason to suspect it is malicious code, it will not be delivered. in determining the actual security required, we will need to review the megawatts in the contracts registered in detail once we have the acknowledgements tomorrow. for simplicity i have assumed that everything is base load and i know this is not correct. once we know exactly what contracts we are looking at, we can fine tune the calculation. additionally, the expectation is that there should be little or no activity in these companies post september close. would you let me know if there is any activity in these entities going forward. if there is post september activity, we will continue to make tax adjustments similar to what was in place before. thanks for the note.'\n",
    "\n"
   ]
  },
  {
   "cell_type": "code",
   "execution_count": 2,
   "metadata": {},
   "outputs": [
    {
     "name": "stdout",
     "output_type": "stream",
     "text": [
      "Found free doc\n",
      "Locked current doc\n",
      "Doc released\n"
     ]
    }
   ],
   "source": [
    "metrics, gspell_sentences = Run_GSpell_Metrics(gt, content, period_windows=[], window_sizes=[100, 10, 5, 3, 1, 150])"
   ]
  },
  {
   "cell_type": "code",
   "execution_count": 4,
   "metadata": {},
   "outputs": [
    {
     "data": {
      "text/plain": [
       "{'Window_0_100': {'Semantic_Score': 0.7627118644067796,\n",
       "  'WER': 0.926923076923077,\n",
       "  'Edit_Distance': 2650,\n",
       "  'Gspell': 'We will become employee badges at the entrance dance to the ballroom. All employees will be required to present a valid enron badge with a photo. Ic yiu. Ou o nog current toy yaeba. Pyoto on your badge. Please go o the badgeborice on the third floor of the enron building and bavebyournphoto wde o you ur badve. '},\n",
       " 'Window_1_10': {'Semantic_Score': 0.7627118644067796,\n",
       "  'WER': 0.926923076923077,\n",
       "  'Edit_Distance': 2651,\n",
       "  'Gspell': 'We will become employee badges at the entrance dance to the ballroom. All employees will be required to present a valid enron badge with a photo. Ic yiu. Ou o no current toy yaeba. Pyoto on your badge. Please go o the badgeborice on the third floor of the enron building and bavebyournphoto wde o you ur badve. '},\n",
       " 'Window_2_5': {'Semantic_Score': 0.8032786885245902,\n",
       "  'WER': 0.9211538461538461,\n",
       "  'Edit_Distance': 2650,\n",
       "  'Gspell': 'We will become employee badges at the entrance dance to the ballroom. All employees will be required to present a valid enron badge with a photo. Ic yiu. Ou o no current toy yaeba. Pyoto on your badge. Please go o the badgeborice on the third floor of the enron building and have your photo wade o you ur badve. '},\n",
       " 'Window_3_3': {'Semantic_Score': 0.819672131147541,\n",
       "  'WER': 0.9192307692307692,\n",
       "  'Edit_Distance': 2650,\n",
       "  'Gspell': 'We will become employee badges at the entrance dance to the ballroom all employees will be required to present a valid enron badge with a photo. Ic you. Ou o no current toy yaeba. Pyoto on your badge. Please go o the badgeborice on the third floor of the enron building and have your photo wade o you ur badve. '},\n",
       " 'Window_4_1': {'Semantic_Score': 0.819672131147541,\n",
       "  'WER': 0.9192307692307692,\n",
       "  'Edit_Distance': 2650,\n",
       "  'Gspell': 'We will become employee badges at the entrance dance to the ballroom all employees will be required to present a valid enron badge with a photo ic you ou o no current toy yaeba pyoto on your badge please go o the badgeborice on the third floor of the enron building and have your photo wade o you ur badve. '},\n",
       " 'Window_5_150': {'Semantic_Score': 0.8360655737704918,\n",
       "  'WER': 0.9173076923076923,\n",
       "  'Edit_Distance': 2650,\n",
       "  'Gspell': 'We will become employee badges at the entrance dance to the ballroom all employees will be required to present a valid enron badge with a photo ic you ou o no current toy yaeba photo on your badge please go o the badgeborice on the third floor of the enron building and have your photo wade o you ur badve. '},\n",
       " 'final_metrics': {'Semantic_Score': 0.8360655737704918,\n",
       "  'WER': 0.9173076923076923,\n",
       "  'Edit_Distance': 2650,\n",
       "  'Gspell': 'We will become employee badges at the entrance dance to the ballroom all employees will be required to present a valid enron badge with a photo ic you ou o no current toy yaeba photo on your badge please go o the badgeborice on the third floor of the enron building and have your photo wade o you ur badve. '}}"
      ]
     },
     "execution_count": 4,
     "metadata": {},
     "output_type": "execute_result"
    }
   ],
   "source": [
    "metrics"
   ]
  },
  {
   "cell_type": "code",
   "execution_count": null,
   "metadata": {},
   "outputs": [],
   "source": []
  }
 ],
 "metadata": {
  "kernelspec": {
   "display_name": "Python 3",
   "language": "python",
   "name": "python3"
  },
  "language_info": {
   "codemirror_mode": {
    "name": "ipython",
    "version": 3
   },
   "file_extension": ".py",
   "mimetype": "text/x-python",
   "name": "python",
   "nbconvert_exporter": "python",
   "pygments_lexer": "ipython3",
   "version": "3.9.12"
  },
  "orig_nbformat": 4,
  "vscode": {
   "interpreter": {
    "hash": "3561554edce98395dff0374c85b70e51cb1afebe2ecc296e0c1c886ecb81ec48"
   }
  }
 },
 "nbformat": 4,
 "nbformat_minor": 2
}
